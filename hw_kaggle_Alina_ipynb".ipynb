{
  "nbformat": 4,
  "nbformat_minor": 0,
  "metadata": {
    "colab": {
      "provenance": [],
      "include_colab_link": true
    },
    "kernelspec": {
      "name": "python3",
      "display_name": "Python 3"
    },
    "language_info": {
      "name": "python"
    }
  },
  "cells": [
    {
      "cell_type": "markdown",
      "metadata": {
        "id": "view-in-github",
        "colab_type": "text"
      },
      "source": [
        "<a href=\"https://colab.research.google.com/github/duimagambetova/Deep_Learning_School_2023/blob/main/hw_kaggle_Alina_ipynb%22.ipynb\" target=\"_parent\"><img src=\"https://colab.research.google.com/assets/colab-badge.svg\" alt=\"Open In Colab\"/></a>"
      ]
    },
    {
      "cell_type": "markdown",
      "metadata": {
        "id": "TK7oX5qdEEYr"
      },
      "source": [
        "# Домашнее задание. Решение конкурса на kaggle.com\n",
        "\n",
        "Это домашнее задание посвящено полноценному решению задачи машинного обучения."
      ]
    },
    {
      "cell_type": "markdown",
      "metadata": {
        "id": "zlB-owfaEEYs"
      },
      "source": [
        "Есть две части этого домашнего задания:\n",
        "\n",
        "### Отправить ваши предсказания в Stepik.\n",
        "За прохождение определенных порогов будут начисляться баллы. Эта часть оценивается из 5 баллов.\n",
        "\n",
        "1) $1.00 \\geqslant score \\geqslant 0.84$ --- 5 баллов\n",
        "\n",
        "2) $0.84 > score \\geqslant 0.77$ --- 4 балла\n",
        "\n",
        "3) $0.77 > score \\geqslant 0.70$ --- 3 балла\n",
        "\n",
        "4) $0.70 > score \\geqslant 0.65$ --- 2 балла\n",
        "\n",
        "5) $0.65 > score \\geqslant 0.6$ --- 1 балл\n",
        "\n",
        "6) $0.60 > score$ --- 0 баллов\n",
        "\n",
        "Для этого мы предварительно разделили данные в задании на две части.\n",
        "* `train.csv`. На этом наборе данных вам необходимо создать и обучить модель. Подробное описание файла есть в ноутбуке.\n",
        "* `test.csv`. В каждой строчке файла `test.csv` указаны признаки тестовых объектов. Предсказания для этого набора необходимо записать в файл submission.csv и сдать в соответствующий шаг на Stepik. Количество попыток ограничено 100 штук.\n",
        "\n",
        "Отправлять в Stepik вы будете файл с ответами `my_submission.csv`. В этом файле вам необходимо для каждого объекта из датасета предсказать вероятность класса 1. Мы подготовили для вас файл с примером посылки `submission.csv`. Ваш файл должен быть оформлен таким же образом. В ноутбуке есть пример оформления файла посылки. Для отправки файла с предсказаниями на Stepik есть отдельный шаг.\n",
        "\n",
        "### Сделать полноценный отчет о вашей работе.\n",
        "Опишите, как вы обработали данные, какие модели попробовали и какие результаты получились (максимум 10 баллов). За каждую выполненную часть будет начислено определенное количество баллов. В этом пункте вам необходимо отправить файл в формате .ipynb на Stepik --- для этого в домашнем задании есть отдельный шаг. Этот пункт оценивается из 10 баллов.\n",
        "\n",
        "**Вторая часть будет проверяться в формате peer-review. Т.е. вашу посылку на Stepik будут проверять 3 других студента, и медианное значение их оценок будет выставлено. Чтобы получить баллы, вам также нужно будет проверить трех других учеников. Это станет доступно после того, как вы сдадите задание сами.**\n",
        "\n",
        "### Контест на Kaggle\n",
        "Для вашего удобства мы подготовили [контест на Kaggle](https://www.kaggle.com/c/advanced-dls-spring-2021/). Тестирующая система на Kaggle выдает те же баллы, что и Stepik. Мы рекомендуем в качестве основной тестирующей системы использовать именно Kaggle, а затем сдать лучшую посылку на Stepik. Так вы привыкните работать с Kaggle.\n",
        "\n",
        "Проблема для российских пользователей Kaggle заключается в том, что подтверждение аккаунта по номеру телефона работает с перебоями или не работает вообще. Без подтвержденного номера телефона вы не сможете совершать посылки в kaggle. Если у вас возникла такая проблема, мы советуем следующие шаги:\n",
        "* Попробовать зарегистрировать аккаунт с аутентификацией через gmail. В таком случае, аккаунт должен работать без подтверждения номера телефона.\n",
        "* Если у вас есть не российский номер, используйте его для верификации аккаунта.\n",
        "* Если на номер телефона не приходит смс для верификации аккаунта, обратитесь в службу поддержки kaggle. Они с переменным успехом умеют подтверждать аккаунты вручную.\n",
        "* Если все же подтвердить аккаунт и получить доступ к сдаче заданий не удалось, используйте только сдачу в Stepik.\n",
        "\n",
        "### Несколько замечаний по выполнению работы\n",
        "* Во всех пунктах указания это минимальный набор вещей, которые стоит сделать. Если вы можете сделать какой-то шаг лучше или добавить что-то свое --- дерзайте!\n",
        "* Пожалуйста, перед сдачей ноутбука убедитесь, что работа чистая и понятная. Это значительно облегчит проверку и повысит ваши ожидаемые баллы.\n",
        "* Если у вас будут проблемы с решением или хочется совета, то пишите в наш чат в телеграме.\n",
        "\n",
        "\n",
        "Данные: [train.csv](https://drive.google.com/file/d/1ERwQ5odiK1Zvi1LtjpkzCMUswYsAX8_K/view?usp=share_link),\n",
        "[test.csv](https://drive.google.com/file/d/1fGw_-RFwvn_LEdt91Jq-7A-wzG6mmH8r/view?usp=share_link), [submission.csv](https://drive.google.com/file/d/199Mt4OYZNaelT83U-HGDsEYs2YcUGQ6y/view?usp=share_link).\n",
        "\n",
        "Если ссылки на данные не работают, их можно скачать [на Kaggle](https://www.kaggle.com/competitions/advanced-dls-spring-2021/data)."
      ]
    },
    {
      "cell_type": "markdown",
      "metadata": {
        "id": "Tu_JvqcBEN8Y"
      },
      "source": [
        "# Как проверять?\n",
        "\n",
        "Ставьте полный балл, если выполнены все рекомендации или сделано что-то более интересное и сложное. За каждый отсустствующий пункт из рекомендации снижайте 1 балл.\n",
        "\n",
        "**Если решение верное, но не удовлетворяет вашим эстетическим предпочтениям, за это баллы снижать не нужно.**"
      ]
    },
    {
      "cell_type": "markdown",
      "metadata": {
        "id": "ninJ63mJEEYt"
      },
      "source": [
        "# Метрика\n",
        "\n",
        "Перед решением любой задачи важно понимать, как будет оцениваться ваше решение. В данном случае мы используем стандартную для задачи классификации метрику ROC-AUC. Ее можно вычислить, используя только предсказанные вероятности и истинные классы без конкретного порога классификации + она раотает даже если классы в данных сильно несбалансированны (примеров одного класса в десятки раз больше примеров длугого). Именно поэтому она очень удобна для соревнований.\n",
        "\n",
        "Посчитать ее легко:\n"
      ]
    },
    {
      "cell_type": "code",
      "metadata": {
        "id": "SQIrka7yEEYu",
        "outputId": "a32409b8-0661-4cbb-f6ac-1498406816ea",
        "colab": {
          "base_uri": "https://localhost:8080/"
        }
      },
      "source": [
        "from sklearn.metrics import roc_auc_score\n",
        "\n",
        "y_true = [\n",
        "    0,\n",
        "    1,\n",
        "    1,\n",
        "    0,\n",
        "    1\n",
        "]\n",
        "\n",
        "y_predictions = [\n",
        "    0.1,\n",
        "    0.9,\n",
        "    0.4,\n",
        "    0.6,\n",
        "    0.61\n",
        "]\n",
        "\n",
        "roc_auc_score(y_true, y_predictions)"
      ],
      "execution_count": 3,
      "outputs": [
        {
          "output_type": "execute_result",
          "data": {
            "text/plain": [
              "0.8333333333333333"
            ]
          },
          "metadata": {},
          "execution_count": 3
        }
      ]
    },
    {
      "cell_type": "markdown",
      "metadata": {
        "id": "IrDNNkNTEEYz"
      },
      "source": [
        "# Первая часть. Исследование"
      ]
    },
    {
      "cell_type": "code",
      "metadata": {
        "id": "lzLqEeZKEEYz"
      },
      "source": [
        "import pandas as pd\n",
        "import numpy as np\n",
        "from matplotlib import pyplot as plt"
      ],
      "execution_count": 4,
      "outputs": []
    },
    {
      "cell_type": "markdown",
      "metadata": {
        "id": "LOlxdURSEEY3"
      },
      "source": [
        "## Загрузка данных (2 балла)\n",
        "\n",
        "1) Посмотрите на случайные строчки.\n",
        "\n",
        "2) Посмотрите, есть ли в датасете незаполненные значения (nan'ы) с помощью data.isna() или data.info() и, если нужно, замените их на что-то. Будет хорошо, если вы построите табличку с количеством nan в каждой колонке."
      ]
    },
    {
      "cell_type": "code",
      "source": [
        "!gdown 1ERwQ5odiK1Zvi1LtjpkzCMUswYsAX8_K  # train.csv\n",
        "!gdown 1fGw_-RFwvn_LEdt91Jq-7A-wzG6mmH8r  # test.csv\n",
        "!gdown 199Mt4OYZNaelT83U-HGDsEYs2YcUGQ6y  # submission.csv"
      ],
      "metadata": {
        "id": "XULA1f3ch6RL",
        "outputId": "73a8a94b-82cc-43eb-96d4-6463afad4091",
        "colab": {
          "base_uri": "https://localhost:8080/"
        }
      },
      "execution_count": 5,
      "outputs": [
        {
          "output_type": "stream",
          "name": "stdout",
          "text": [
            "Downloading...\n",
            "From: https://drive.google.com/uc?id=1ERwQ5odiK1Zvi1LtjpkzCMUswYsAX8_K\n",
            "To: /content/train.csv\n",
            "100% 664k/664k [00:00<00:00, 135MB/s]\n",
            "Downloading...\n",
            "From: https://drive.google.com/uc?id=1fGw_-RFwvn_LEdt91Jq-7A-wzG6mmH8r\n",
            "To: /content/test.csv\n",
            "100% 218k/218k [00:00<00:00, 123MB/s]\n",
            "Downloading...\n",
            "From: https://drive.google.com/uc?id=199Mt4OYZNaelT83U-HGDsEYs2YcUGQ6y\n",
            "To: /content/submission.csv\n",
            "100% 14.7k/14.7k [00:00<00:00, 44.3MB/s]\n"
          ]
        }
      ]
    },
    {
      "cell_type": "code",
      "metadata": {
        "id": "pw-Brue9EEY3"
      },
      "source": [
        "data = pd.read_csv('./train.csv')"
      ],
      "execution_count": 6,
      "outputs": []
    },
    {
      "cell_type": "code",
      "metadata": {
        "id": "KgnkkF5bEEY9"
      },
      "source": [
        "# Для вашего удобства списки с именами разных колонок\n",
        "\n",
        "# Числовые признаки\n",
        "num_cols = [\n",
        "    'ClientPeriod',\n",
        "    'MonthlySpending',\n",
        "    'TotalSpent'\n",
        "]\n",
        "\n",
        "# Категориальные признаки\n",
        "cat_cols = [\n",
        "    'Sex',\n",
        "    'IsSeniorCitizen',\n",
        "    'HasPartner',\n",
        "    'HasChild',\n",
        "    'HasPhoneService',\n",
        "    'HasMultiplePhoneNumbers',\n",
        "    'HasInternetService',\n",
        "    'HasOnlineSecurityService',\n",
        "    'HasOnlineBackup',\n",
        "    'HasDeviceProtection',\n",
        "    'HasTechSupportAccess',\n",
        "    'HasOnlineTV',\n",
        "    'HasMovieSubscription',\n",
        "    'HasContractPhone',\n",
        "    'IsBillingPaperless',\n",
        "    'PaymentMethod'\n",
        "]\n",
        "\n",
        "feature_cols = num_cols + cat_cols\n",
        "target_col = ['Churn']"
      ],
      "execution_count": 7,
      "outputs": []
    },
    {
      "cell_type": "code",
      "metadata": {
        "id": "tHC6gWabEEZA",
        "outputId": "e4f3c157-9a08-404d-9753-41810aec3b3d",
        "colab": {
          "base_uri": "https://localhost:8080/"
        }
      },
      "source": [
        "data.info()\n",
        "data[\"TotalSpent\"] #колонка TotalSpent должна быть numerical, но dtype показывает ее как object\n",
        "data['TotalSpent'] = pd.to_numeric(data['TotalSpent'], errors='coerce') #конвертируем\n",
        "data['TotalSpent'] = data['TotalSpent'].astype(float)\n",
        "data[\"TotalSpent\"]"
      ],
      "execution_count": 8,
      "outputs": [
        {
          "output_type": "stream",
          "name": "stdout",
          "text": [
            "<class 'pandas.core.frame.DataFrame'>\n",
            "RangeIndex: 5282 entries, 0 to 5281\n",
            "Data columns (total 20 columns):\n",
            " #   Column                    Non-Null Count  Dtype  \n",
            "---  ------                    --------------  -----  \n",
            " 0   ClientPeriod              5282 non-null   int64  \n",
            " 1   MonthlySpending           5282 non-null   float64\n",
            " 2   TotalSpent                5282 non-null   object \n",
            " 3   Sex                       5282 non-null   object \n",
            " 4   IsSeniorCitizen           5282 non-null   int64  \n",
            " 5   HasPartner                5282 non-null   object \n",
            " 6   HasChild                  5282 non-null   object \n",
            " 7   HasPhoneService           5282 non-null   object \n",
            " 8   HasMultiplePhoneNumbers   5282 non-null   object \n",
            " 9   HasInternetService        5282 non-null   object \n",
            " 10  HasOnlineSecurityService  5282 non-null   object \n",
            " 11  HasOnlineBackup           5282 non-null   object \n",
            " 12  HasDeviceProtection       5282 non-null   object \n",
            " 13  HasTechSupportAccess      5282 non-null   object \n",
            " 14  HasOnlineTV               5282 non-null   object \n",
            " 15  HasMovieSubscription      5282 non-null   object \n",
            " 16  HasContractPhone          5282 non-null   object \n",
            " 17  IsBillingPaperless        5282 non-null   object \n",
            " 18  PaymentMethod             5282 non-null   object \n",
            " 19  Churn                     5282 non-null   int64  \n",
            "dtypes: float64(1), int64(3), object(16)\n",
            "memory usage: 825.4+ KB\n"
          ]
        },
        {
          "output_type": "execute_result",
          "data": {
            "text/plain": [
              "0       1026.35\n",
              "1       1872.20\n",
              "2         75.90\n",
              "3       2570.00\n",
              "4       6758.45\n",
              "         ...   \n",
              "5277      82.15\n",
              "5278    2188.45\n",
              "5279      55.05\n",
              "5280    2215.25\n",
              "5281    1375.60\n",
              "Name: TotalSpent, Length: 5282, dtype: float64"
            ]
          },
          "metadata": {},
          "execution_count": 8
        }
      ]
    },
    {
      "cell_type": "markdown",
      "metadata": {
        "id": "dK370bPCEEZD"
      },
      "source": [
        "## Анализ данных (3 балла)\n",
        "\n",
        "1) Для численных призанков постройте гистограмму (*plt.hist(...)*) или boxplot (*plt.boxplot(...)*). Для категориальных посчитайте количество каждого значения для каждого признака. Для каждой колонки надо сделать *data.value_counts()* и построить bar диаграммы *plt.bar(...)* или круговые диаграммы *plt.pie(...)* (хорошо, елси вы сможете это сделать на одном гарфике с помощью *plt.subplots(...)*).\n",
        "\n",
        "2) Посмотрите на распределение целевой переменной и скажите, являются ли классы несбалансированными.\n",
        "\n",
        "3) (Если будет желание) Поиграйте с разными библиотеками для визуализации - *sns*, *pandas_visual_analysis*, etc.\n",
        "\n",
        "Второй пункт очень важен, потому что существуют задачи классификации с несбалансированными классами. Например, это может значить, что в датасете намного больше примеров 0 класса. В таких случаях нужно 1) не использовать accuracy как метрику 2) использовать методы борьбы с imbalanced dataset (обычно если датасет сильно несбалансирован, т.е. класса 1 в 20 раз меньше класса 0)."
      ]
    },
    {
      "cell_type": "code",
      "metadata": {
        "id": "NZkbgFJZEEZE",
        "outputId": "dbc92d20-ed7d-44eb-b9f5-88cb44f83490",
        "colab": {
          "base_uri": "https://localhost:8080/",
          "height": 1000
        }
      },
      "source": [
        "import seaborn as sns\n",
        "for col in num_cols:\n",
        "    plt.figure(figsize=(8, 6))\n",
        "    sns.histplot(data[col], kde=True)\n",
        "    plt.title(f'Histogram for {col}')\n",
        "    plt.show()"
      ],
      "execution_count": 9,
      "outputs": [
        {
          "output_type": "display_data",
          "data": {
            "text/plain": [
              "<Figure size 800x600 with 1 Axes>"
            ],
            "image/png": "[encoded data removed]"
          },
          "metadata": {}
        },
        {
          "output_type": "display_data",
          "data": {
            "text/plain": [
              "<Figure size 800x600 with 1 Axes>"
            ],
            "image/png": "[encoded data removed]"
          },
          "metadata": {}
        },
        {
          "output_type": "display_data",
          "data": {
            "text/plain": [
              "<Figure size 800x600 with 1 Axes>"
            ],
            "image/png": "[encoded data removed]"
          },
          "metadata": {}
        }
      ]
    },
    {
      "cell_type": "markdown",
      "metadata": {
        "id": "zg60u3QDEEZH"
      },
      "source": [
        "(Дополнительно) Если вы нашли какие-то ошибки в данных или выбросы, то можете их убрать. Тут можно поэксперементировать с обработкой данных как угодно, но не за баллы."
      ]
    },
    {
      "cell_type": "code",
      "metadata": {
        "id": "fwfksF1gEEZI",
        "outputId": "fae9008a-77f7-46ff-f96a-9dce42b3dff5",
        "colab": {
          "base_uri": "https://localhost:8080/"
        }
      },
      "source": [
        "\n",
        "correlation_matrix = data.corr()\n",
        "print(correlation_matrix)\n",
        "churn_distribution = data['Churn'].value_counts()\n",
        "print(f\"Churn distribution:\\n{churn_distribution}\")\n",
        "#data.drop([\"isSeniorCitizen\"], axis=1, inplace=True)"
      ],
      "execution_count": 10,
      "outputs": [
        {
          "output_type": "stream",
          "name": "stdout",
          "text": [
            "                 ClientPeriod  MonthlySpending  TotalSpent  IsSeniorCitizen  \\\n",
            "ClientPeriod         1.000000         0.249414    0.826332         0.011561   \n",
            "MonthlySpending      0.249414         1.000000    0.652034         0.215456   \n",
            "TotalSpent           0.826332         0.652034    1.000000         0.093987   \n",
            "IsSeniorCitizen      0.011561         0.215456    0.093987         1.000000   \n",
            "Churn               -0.350640         0.184769   -0.201294         0.156872   \n",
            "\n",
            "                    Churn  \n",
            "ClientPeriod    -0.350640  \n",
            "MonthlySpending  0.184769  \n",
            "TotalSpent      -0.201294  \n",
            "IsSeniorCitizen  0.156872  \n",
            "Churn            1.000000  \n",
            "Churn distribution:\n",
            "0    3898\n",
            "1    1384\n",
            "Name: Churn, dtype: int64\n"
          ]
        },
        {
          "output_type": "stream",
          "name": "stderr",
          "text": [
            "<ipython-input-10-b05a64a7ba62>:1: FutureWarning: The default value of numeric_only in DataFrame.corr is deprecated. In a future version, it will default to False. Select only valid columns or specify the value of numeric_only to silence this warning.\n",
            "  correlation_matrix = data.corr()\n"
          ]
        }
      ]
    },
    {
      "cell_type": "markdown",
      "source": [
        "Таблица показывает, что между клиентским периодом и общей суммой трат и оттоком негативная корреляция, что логично. Общая сумма трат и клиентский период высоко коррелируют. Можно заметить, что колона указывающая на гражданство имеет низкую кореляцию с другими признаками."
      ],
      "metadata": {
        "id": "vupTgrKoFrbI"
      }
    },
    {
      "cell_type": "markdown",
      "metadata": {
        "id": "DviiJd8REEZK"
      },
      "source": [
        "## Применение линейных моделей (3 балла)\n",
        "\n",
        "1) Обработайте данные для того, чтобы к ним можно было применить LogisticRegression. Т.е. отнормируйте числовые признаки, а категориальные закодируйте с помощью one-hot-encoding'а.\n",
        "\n",
        "2) С помощью кроссвалидации или разделения на train/valid выборку протестируйте разные значения гиперпараметра C и выберите лучший (можно тестировать С=100, 10, 1, 0.1, 0.01, 0.001) по метрике ROC-AUC.\n",
        "\n",
        "Если вы разделяете на train/valid, то используйте LogisticRegressionCV. Он сам при вызове .fit() подберет параметр С. (не забудьте передать scroing='roc_auc', чтобы при кроссвалидации сравнивались значения этой метрики, и refit=True, чтобы при потом модель обучилась на всем датасете с лучшим параметром C).\n",
        "\n",
        "\n",
        "(более сложный вариант) Если вы будете использовать кроссвалидацию, то преобразования данных и LogisticRegression нужно соединить в один Pipeline с помощью make_pipeline, как это делалось во втором семинаре. Потом pipeline надо передать в GridSearchCV. Для one-hot-encoding'a можно испльзовать комбинацию LabelEncoder + OneHotEncoder (сначала превращаем строчки в числа, а потом числа првращаем в one-hot вектора.)"
      ]
    },
    {
      "cell_type": "code",
      "metadata": {
        "id": "xHCLDmwqEEZL"
      },
      "source": [
        "from sklearn.linear_model import LogisticRegression, LogisticRegressionCV\n",
        "from sklearn.model_selection import train_test_split, GridSearchCV\n",
        "from sklearn.preprocessing import StandardScaler, RobustScaler, LabelEncoder, OneHotEncoder\n",
        "from sklearn.pipeline import make_pipeline\n",
        "from sklearn.metrics import classification_report"
      ],
      "execution_count": 11,
      "outputs": []
    },
    {
      "cell_type": "code",
      "source": [
        "from sklearn.compose import ColumnTransformer\n",
        "from sklearn.pipeline import Pipeline\n",
        "import pandas as pd\n",
        "\n",
        "numeric_features = data.select_dtypes(include='number').columns\n",
        "categorical_features = data.select_dtypes(exclude='number').columns\n",
        "\n",
        "numeric_transformer = 'passthrough'\n",
        "categorical_transformer = Pipeline(steps=[\n",
        "    ('onehot', OneHotEncoder(handle_unknown='ignore', sparse=False))\n",
        "])\n",
        "\n",
        "preprocessor = ColumnTransformer(\n",
        "    transformers=[\n",
        "        ('num', numeric_transformer, numeric_features),\n",
        "        ('cat', categorical_transformer, cat_cols)\n",
        "    ])\n",
        "\n",
        "data_encoded = preprocessor.fit_transform(data)\n",
        "\n",
        "columns = list(numeric_features) + list(preprocessor.transformers_[1][1]['onehot'].get_feature_names_out(cat_cols))\n",
        "data_encoded_df = pd.DataFrame(data_encoded, columns=columns)\n",
        "\n",
        "print(data_encoded_df.head())"
      ],
      "metadata": {
        "id": "EPlNo7RkHnKG",
        "outputId": "e427e06e-c2bc-4d50-8d64-6008fb3b613d",
        "colab": {
          "base_uri": "https://localhost:8080/"
        }
      },
      "execution_count": 12,
      "outputs": [
        {
          "output_type": "stream",
          "name": "stdout",
          "text": [
            "   ClientPeriod  MonthlySpending  TotalSpent  IsSeniorCitizen  Churn  \\\n",
            "0          55.0            19.50     1026.35              0.0    0.0   \n",
            "1          72.0            25.85     1872.20              0.0    0.0   \n",
            "2           1.0            75.90       75.90              0.0    1.0   \n",
            "3          32.0            79.30     2570.00              1.0    0.0   \n",
            "4          60.0           115.25     6758.45              0.0    0.0   \n",
            "\n",
            "   Sex_Female  Sex_Male  IsSeniorCitizen_0  IsSeniorCitizen_1  HasPartner_No  \\\n",
            "0         0.0       1.0                1.0                0.0            0.0   \n",
            "1         0.0       1.0                1.0                0.0            0.0   \n",
            "2         0.0       1.0                1.0                0.0            1.0   \n",
            "3         1.0       0.0                0.0                1.0            0.0   \n",
            "4         1.0       0.0                1.0                0.0            0.0   \n",
            "\n",
            "   ...  HasMovieSubscription_Yes  HasContractPhone_Month-to-month  \\\n",
            "0  ...                       0.0                              0.0   \n",
            "1  ...                       0.0                              0.0   \n",
            "2  ...                       0.0                              1.0   \n",
            "3  ...                       0.0                              1.0   \n",
            "4  ...                       1.0                              0.0   \n",
            "\n",
            "   HasContractPhone_One year  HasContractPhone_Two year  \\\n",
            "0                        1.0                        0.0   \n",
            "1                        0.0                        1.0   \n",
            "2                        0.0                        0.0   \n",
            "3                        0.0                        0.0   \n",
            "4                        0.0                        1.0   \n",
            "\n",
            "   IsBillingPaperless_No  IsBillingPaperless_Yes  \\\n",
            "0                    1.0                     0.0   \n",
            "1                    1.0                     0.0   \n",
            "2                    0.0                     1.0   \n",
            "3                    1.0                     0.0   \n",
            "4                    1.0                     0.0   \n",
            "\n",
            "   PaymentMethod_Bank transfer (automatic)  \\\n",
            "0                                      0.0   \n",
            "1                                      0.0   \n",
            "2                                      0.0   \n",
            "3                                      0.0   \n",
            "4                                      0.0   \n",
            "\n",
            "   PaymentMethod_Credit card (automatic)  PaymentMethod_Electronic check  \\\n",
            "0                                    0.0                             0.0   \n",
            "1                                    1.0                             0.0   \n",
            "2                                    0.0                             1.0   \n",
            "3                                    0.0                             0.0   \n",
            "4                                    1.0                             0.0   \n",
            "\n",
            "   PaymentMethod_Mailed check  \n",
            "0                         1.0  \n",
            "1                         0.0  \n",
            "2                         0.0  \n",
            "3                         1.0  \n",
            "4                         0.0  \n",
            "\n",
            "[5 rows x 48 columns]\n"
          ]
        },
        {
          "output_type": "stream",
          "name": "stderr",
          "text": [
            "/usr/local/lib/python3.10/dist-packages/sklearn/preprocessing/_encoders.py:868: FutureWarning: `sparse` was renamed to `sparse_output` in version 1.2 and will be removed in 1.4. `sparse_output` is ignored unless you leave `sparse` to its default value.\n",
            "  warnings.warn(\n"
          ]
        }
      ]
    },
    {
      "cell_type": "code",
      "source": [
        "import pandas as pd\n",
        "from sklearn.model_selection import train_test_split, GridSearchCV\n",
        "from sklearn.preprocessing import StandardScaler, OneHotEncoder, LabelEncoder\n",
        "from sklearn.compose import ColumnTransformer\n",
        "from sklearn.pipeline import Pipeline\n",
        "from sklearn.linear_model import LogisticRegression\n",
        "from sklearn.metrics import roc_auc_score\n",
        "from sklearn.impute import SimpleImputer\n",
        "\n",
        "X = data.drop('Churn', axis=1)\n",
        "y = data['Churn']\n",
        "\n",
        "X_train, X_valid, y_train, y_valid = train_test_split(X, y, test_size=0.2, random_state=42)\n",
        "\n",
        "\n",
        "numeric_features = X.select_dtypes(include='number').columns\n",
        "categorical_features = X.select_dtypes(exclude='number').columns\n",
        "\n",
        "numeric_transformer = Pipeline(steps=[\n",
        "    ('imputer', SimpleImputer(strategy='mean')),\n",
        "    ('scaler', StandardScaler())\n",
        "])\n",
        "categorical_transformer = Pipeline(steps=[\n",
        "    ('imputer', SimpleImputer(strategy='most_frequent')),\n",
        "    ('onehot', OneHotEncoder(handle_unknown='ignore'))\n",
        "])\n",
        "\n",
        "preprocessor = ColumnTransformer(\n",
        "    transformers=[\n",
        "        ('num', numeric_transformer, numeric_features),\n",
        "        ('cat', categorical_transformer, categorical_features)\n",
        "    ])\n",
        "\n",
        "pipeline = Pipeline([\n",
        "    ('preprocessor', preprocessor),\n",
        "    ('classifier', LogisticRegression(max_iter=1000))\n",
        "])\n",
        "\n",
        "param_grid = {'classifier__C': [100, 10, 1, 0.1, 0.01, 0.001]}\n",
        "\n",
        "grid_search = GridSearchCV(pipeline, param_grid, cv=5, scoring='roc_auc')\n",
        "grid_search.fit(X_train, y_train)\n",
        "\n",
        "best_C = grid_search.best_params_['classifier__C']\n",
        "\n",
        "y_pred_valid = grid_search.predict_proba(X_valid)[:, 1]\n",
        "roc_auc_valid = roc_auc_score(y_valid, y_pred_valid)\n",
        "\n",
        "print(f\"Best C: {best_C}\")\n",
        "print(f\"ROC-AUC on validation set: {roc_auc_valid}\")\n"
      ],
      "metadata": {
        "id": "AKOHYAQ7KrDH",
        "outputId": "9ad2279f-bba3-4c77-bc6f-5191f21d556a",
        "colab": {
          "base_uri": "https://localhost:8080/"
        }
      },
      "execution_count": 13,
      "outputs": [
        {
          "output_type": "stream",
          "name": "stdout",
          "text": [
            "Best C: 10\n",
            "ROC-AUC on validation set: 0.82723654196027\n"
          ]
        }
      ]
    },
    {
      "cell_type": "markdown",
      "metadata": {
        "id": "uVahy6JKEEZQ"
      },
      "source": [
        "Выпишите какое лучшее качество и с какими параметрами вам удалось получить"
      ]
    },
    {
      "cell_type": "markdown",
      "metadata": {
        "id": "36729TOQEEZR"
      },
      "source": [
        "Best C: 10"
      ]
    },
    {
      "cell_type": "markdown",
      "metadata": {
        "id": "BlTeVy7fEEZR"
      },
      "source": [
        "## Применение градиентного бустинга (2 балла)\n",
        "\n",
        "Если вы хотите получить баллы за точный ответ, то стоит попробовать градиентный бустинг. Часто градиентный бустинг с параметрами по умолчанию даст вам 80% результата за 0% усилий.\n",
        "\n",
        "Мы будем использовать catboost, поэтому нам не надо кодировать категориальные признаки. Catboost сделает это сам (в .fit() надо передать cat_features=cat_cols). А численные признаки нормировать для моделей, основанных на деревьях не нужно.\n",
        "\n",
        "1) Разделите выборку на train/valid. Протестируйте catboost cо стандартными параметрами.\n",
        "\n",
        "2) Протестируйте разные занчения параметроа количества деревьев и learning_rate'а и выберите лучшую по метрике ROC-AUC комбинацию.\n",
        "\n",
        "(Дополнительно) Есть некоторые сложности с тем, чтобы использовать CatBoostClassifier вместе с GridSearchCV, поэтому мы не просим использовать кроссвалидацию. Но можете попробовать)"
      ]
    },
    {
      "cell_type": "code",
      "metadata": {
        "id": "Fioxxlp-EEZS",
        "outputId": "e2b0fdec-a112-48bd-b2e1-624db4742920",
        "colab": {
          "base_uri": "https://localhost:8080/"
        }
      },
      "source": [
        "!pip install catboost\n",
        "from catboost import CatBoostClassifier, Pool\n",
        "from sklearn.model_selection import train_test_split\n",
        "from sklearn.metrics import roc_auc_score\n",
        "\n",
        "catboost_model = CatBoostClassifier(cat_features=cat_cols, random_seed=42, logging_level='Silent')\n",
        "catboost_model.fit(X_train, y_train)\n",
        "\n",
        "y_pred_valid_catboost = catboost_model.predict_proba(X_valid)[:, 1]\n",
        "\n",
        "roc_auc_valid_catboost = roc_auc_score(y_valid, y_pred_valid_catboost)\n",
        "\n",
        "print(f\"ROC-AUC on validation set (CatBoost): {roc_auc_valid_catboost}\")\n"
      ],
      "execution_count": 20,
      "outputs": [
        {
          "output_type": "stream",
          "name": "stdout",
          "text": [
            "Collecting catboost\n",
            "  Downloading catboost-1.2.2-cp310-cp310-manylinux2014_x86_64.whl (98.7 MB)\n",
            "\u001b[2K     \u001b[90m━━━━━━━━━━━━━━━━━━━━━━━━━━━━━━━━━━━━━━━━\u001b[0m \u001b[32m98.7/98.7 MB\u001b[0m \u001b[31m10.0 MB/s\u001b[0m eta \u001b[36m0:00:00\u001b[0m\n",
            "\u001b[?25hRequirement already satisfied: graphviz in /usr/local/lib/python3.10/dist-packages (from catboost) (0.20.1)\n",
            "Requirement already satisfied: matplotlib in /usr/local/lib/python3.10/dist-packages (from catboost) (3.7.1)\n",
            "Requirement already satisfied: numpy>=1.16.0 in /usr/local/lib/python3.10/dist-packages (from catboost) (1.23.5)\n",
            "Requirement already satisfied: pandas>=0.24 in /usr/local/lib/python3.10/dist-packages (from catboost) (1.5.3)\n",
            "Requirement already satisfied: scipy in /usr/local/lib/python3.10/dist-packages (from catboost) (1.11.3)\n",
            "Requirement already satisfied: plotly in /usr/local/lib/python3.10/dist-packages (from catboost) (5.15.0)\n",
            "Requirement already satisfied: six in /usr/local/lib/python3.10/dist-packages (from catboost) (1.16.0)\n",
            "Requirement already satisfied: python-dateutil>=2.8.1 in /usr/local/lib/python3.10/dist-packages (from pandas>=0.24->catboost) (2.8.2)\n",
            "Requirement already satisfied: pytz>=2020.1 in /usr/local/lib/python3.10/dist-packages (from pandas>=0.24->catboost) (2023.3.post1)\n",
            "Requirement already satisfied: contourpy>=1.0.1 in /usr/local/lib/python3.10/dist-packages (from matplotlib->catboost) (1.1.1)\n",
            "Requirement already satisfied: cycler>=0.10 in /usr/local/lib/python3.10/dist-packages (from matplotlib->catboost) (0.12.1)\n",
            "Requirement already satisfied: fonttools>=4.22.0 in /usr/local/lib/python3.10/dist-packages (from matplotlib->catboost) (4.43.1)\n",
            "Requirement already satisfied: kiwisolver>=1.0.1 in /usr/local/lib/python3.10/dist-packages (from matplotlib->catboost) (1.4.5)\n",
            "Requirement already satisfied: packaging>=20.0 in /usr/local/lib/python3.10/dist-packages (from matplotlib->catboost) (23.2)\n",
            "Requirement already satisfied: pillow>=6.2.0 in /usr/local/lib/python3.10/dist-packages (from matplotlib->catboost) (9.4.0)\n",
            "Requirement already satisfied: pyparsing>=2.3.1 in /usr/local/lib/python3.10/dist-packages (from matplotlib->catboost) (3.1.1)\n",
            "Requirement already satisfied: tenacity>=6.2.0 in /usr/local/lib/python3.10/dist-packages (from plotly->catboost) (8.2.3)\n",
            "Installing collected packages: catboost\n",
            "Successfully installed catboost-1.2.2\n",
            "ROC-AUC on validation set (CatBoost): 0.8225935297974715\n"
          ]
        }
      ]
    },
    {
      "cell_type": "code",
      "source": [
        "best_roc_auc = 0\n",
        "best_params = {}\n",
        "\n",
        "for n_estimators in [100, 200, 300]:\n",
        "    for learning_rate in [0.01, 0.1, 0.2]:\n",
        "        catboost_model = CatBoostClassifier(\n",
        "            cat_features=cat_cols,\n",
        "            n_estimators=n_estimators,\n",
        "            learning_rate=learning_rate,\n",
        "            random_seed=42,\n",
        "            logging_level='Silent'\n",
        "        )\n",
        "        catboost_model.fit(X_train, y_train)\n",
        "        y_pred_valid_catboost = catboost_model.predict_proba(X_valid)[:, 1]\n",
        "        roc_auc_valid_catboost = roc_auc_score(y_valid, y_pred_valid_catboost)\n",
        "\n",
        "        print(f\"n_estimators={n_estimators}, learning_rate={learning_rate}, ROC-AUC: {roc_auc_valid_catboost}\")\n",
        "\n",
        "        if roc_auc_valid_catboost > best_roc_auc:\n",
        "            best_roc_auc = roc_auc_valid_catboost\n",
        "            best_params = {'n_estimators': n_estimators, 'learning_rate': learning_rate}\n",
        "\n",
        "print(f\"Best ROC-AUC: {best_roc_auc}\")\n",
        "print(f\"Best parameters: {best_params}\")\n"
      ],
      "metadata": {
        "id": "Kklvsc4XRhqz",
        "outputId": "c928ba81-46aa-423e-8ab5-3b7047f76853",
        "colab": {
          "base_uri": "https://localhost:8080/"
        }
      },
      "execution_count": 21,
      "outputs": [
        {
          "output_type": "stream",
          "name": "stdout",
          "text": [
            "n_estimators=100, learning_rate=0.01, ROC-AUC: 0.8006829452997294\n",
            "n_estimators=100, learning_rate=0.1, ROC-AUC: 0.8276475097200802\n",
            "n_estimators=100, learning_rate=0.2, ROC-AUC: 0.8227736167933434\n",
            "n_estimators=200, learning_rate=0.01, ROC-AUC: 0.8239326382283133\n",
            "n_estimators=200, learning_rate=0.1, ROC-AUC: 0.8208711592984919\n",
            "n_estimators=200, learning_rate=0.2, ROC-AUC: 0.8139585892261799\n",
            "n_estimators=300, learning_rate=0.01, ROC-AUC: 0.8271996010380399\n",
            "n_estimators=300, learning_rate=0.1, ROC-AUC: 0.8155701369584691\n",
            "n_estimators=300, learning_rate=0.2, ROC-AUC: 0.8049657834707844\n",
            "Best ROC-AUC: 0.8276475097200802\n",
            "Best parameters: {'n_estimators': 100, 'learning_rate': 0.1}\n"
          ]
        }
      ]
    },
    {
      "cell_type": "markdown",
      "metadata": {
        "id": "rf4Kjt96EEZU"
      },
      "source": [
        "Выпишите, какое лучшее качество и с какими параметрами вам удалось получить"
      ]
    },
    {
      "cell_type": "markdown",
      "metadata": {
        "id": "d2d9GolXEEZV"
      },
      "source": [
        "Catboost и LogisticRegresssion дали почти одинаковые результаты: 0.82255 и 0.8279, соответственно. CatBoost с подобранными параметрами выдает результат 0.8276."
      ]
    },
    {
      "cell_type": "markdown",
      "metadata": {
        "id": "dDMXbvNZEEZV"
      },
      "source": [
        "# Предсказания"
      ]
    },
    {
      "cell_type": "code",
      "metadata": {
        "id": "G_P4wFNaEEZW"
      },
      "source": [
        "test_data=pd.read_csv('./test.csv')\n",
        "data['TotalSpent'] = pd.to_numeric(test_data['TotalSpent'], errors='coerce')\n",
        "data['MonthlySpending'] = pd.to_numeric(test_data['TotalSpent'], errors='coerce')"
      ],
      "execution_count": 25,
      "outputs": []
    },
    {
      "cell_type": "code",
      "source": [
        "best_model = CatBoostClassifier(\n",
        "    cat_features=cat_cols,\n",
        "    n_estimators=best_params['n_estimators'],\n",
        "    learning_rate=best_params['learning_rate'],\n",
        "    random_seed=42,\n",
        "    logging_level='Silent'\n",
        ")\n",
        "best_model.fit(X_train, y_train)\n",
        "\n",
        "best_model.save_model('catboost_best_model')"
      ],
      "metadata": {
        "id": "WNkyNMctUVM7"
      },
      "execution_count": 26,
      "outputs": []
    },
    {
      "cell_type": "code",
      "metadata": {
        "id": "FfSufx0CEEZZ"
      },
      "source": [
        "preds = best_model.predict_proba(test_data)[:, 1]\n",
        "submission = pd.read_csv('./submission.csv')\n",
        "submission['Churn'] = preds\n",
        "submission.to_csv('submission.csv', index = False)"
      ],
      "execution_count": 27,
      "outputs": []
    },
    {
      "cell_type": "markdown",
      "source": [
        "Лучшее решение отправьте в Stepik."
      ],
      "metadata": {
        "id": "tzGirrp5l2I-"
      }
    },
    {
      "cell_type": "code",
      "source": [
        "from google.colab import drive\n",
        "import shutil\n",
        "\n",
        "drive.mount('/content/drive')\n",
        "\n",
        "source_path = './submission.csv'\n",
        "drive_folder = 'churn'\n",
        "destination_path = f'/content/drive/MyDrive/{drive_folder}/submission.csv'\n",
        "\n",
        "shutil.copyfile(source_path, destination_path)\n"
      ],
      "metadata": {
        "id": "eoNce9Yu0OM5",
        "colab": {
          "base_uri": "https://localhost:8080/",
          "height": 53
        },
        "outputId": "8ce6dcd9-1681-40b7-c77f-eac75267f4ca"
      },
      "execution_count": 34,
      "outputs": [
        {
          "output_type": "stream",
          "name": "stdout",
          "text": [
            "Drive already mounted at /content/drive; to attempt to forcibly remount, call drive.mount(\"/content/drive\", force_remount=True).\n"
          ]
        },
        {
          "output_type": "execute_result",
          "data": {
            "text/plain": [
              "'/content/drive/MyDrive/churn/submission.csv'"
            ],
            "application/vnd.google.colaboratory.intrinsic+json": {
              "type": "string"
            }
          },
          "metadata": {},
          "execution_count": 34
        }
      ]
    },
    {
      "cell_type": "markdown",
      "source": [
        "YOUR RECENT SUBMISSION\n",
        "submission (1).csv\n",
        "Submitted by Alina Duimagambetova · Submitted 11 minutes ago\n",
        "\n",
        "Score: 0.85219"
      ],
      "metadata": {
        "id": "yAdbWpkKCUwm"
      }
    }
  ]
}